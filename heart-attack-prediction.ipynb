{
 "cells": [
  {
   "cell_type": "markdown",
   "id": "3df6f3b9-7480-4184-b58b-64edebfe1488",
   "metadata": {},
   "source": [
    "# Предсказание сердечного приступа у пациента"
   ]
  },
  {
   "cell_type": "markdown",
   "id": "dd4ba3a6-72fe-492f-95b7-b1227bf66dc6",
   "metadata": {},
   "source": [
    "# Цель исследования:\n",
    "\n",
    "Разработать модель машинного обучения для предсказания на тестовой выборке риска возникновения сердечного приступа у пациента.\n",
    "\n",
    "1. Исследование датасета\n",
    "2. Предобработка данных\n",
    "3. Обучение модели\n",
    "4. Подготовка предсказания на тестовой выборке\n"
   ]
  },
  {
   "cell_type": "markdown",
   "id": "48dae5c7-dd58-4b81-8050-3c15dc72af9f",
   "metadata": {},
   "source": [
    "# Описание данных\n",
    "\n",
    "`heart_train.csv` - тренировочная выборка с данными пациентов\n",
    "\n",
    "| Признак | Обозначение |\n",
    "| ------- | ------- |\n",
    "| `Age` | Возраст |\n",
    "| `Cholesterol` | Холестерин |\n",
    "| `Heart rate` | Сердечный ритм |\n",
    "| `Diabetes` | Диабет |\n",
    "| `Family History` | Семейный анамнез |\n",
    "| `Smoking` | Курение |\n",
    "| `Obesity` | Ожирение |\n",
    "| `Alcohol Consumption` | Потребление алкоголя |\n",
    "| `Exercise Hours Per Week` | Часы активности в неделю |\n",
    "| `Diet` | Диета |\n",
    "| `Previous Heart Problems` | Проблемы с сердцем ранее |\n",
    "| `Medication Use` | Приём лекарств |\n",
    "| `Stress Level` | Уровень стресса |\n",
    "| `Sedentary Hours Per Day` | Сидячие часы в день |\n",
    "| `Income` | Доход |\n",
    "| `BMI` | Индекс массы тела |\n",
    "| `Triglycerides` | Триглицериды |\n",
    "| `Physical Activity Days Per Week` | Количество дней активности в неделю |\n",
    "| `Sleep Hours Per Day` | Количество часов сна в день |\n",
    "| `Heart Attack Risk (Binary)` | Риск сердечного приступа (бинарный) - целевой признак |\n",
    "| `Blood sugar` | Содержание сахара в крови |\n",
    "| `CK-MB` | Креатинкиназа-МВ |\n",
    "| `Troponin` | Тропонин |\n",
    "| `Gender` | Пол |\n",
    "| `Systolic blood pressure` | Систолическое АД |\n",
    "| `Diastolic blood pressure` | Диастолическое АД |\n",
    "| `id` | Идентификатор пациента |\n",
    "\n",
    "`heart_train.csv` - тестовая выборка с данными пациентов без целевого признака."
   ]
  },
  {
   "cell_type": "code",
   "execution_count": null,
   "id": "30b468c1-49ca-46b5-8b3e-85907d328775",
   "metadata": {},
   "outputs": [],
   "source": []
  }
 ],
 "metadata": {
  "kernelspec": {
   "display_name": "Python 3 (ipykernel)",
   "language": "python",
   "name": "python3"
  },
  "language_info": {
   "codemirror_mode": {
    "name": "ipython",
    "version": 3
   },
   "file_extension": ".py",
   "mimetype": "text/x-python",
   "name": "python",
   "nbconvert_exporter": "python",
   "pygments_lexer": "ipython3",
   "version": "3.9.21"
  }
 },
 "nbformat": 4,
 "nbformat_minor": 5
}
