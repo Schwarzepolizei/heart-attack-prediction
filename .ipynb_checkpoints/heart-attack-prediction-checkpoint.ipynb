{
 "cells": [
  {
   "cell_type": "markdown",
   "id": "3df6f3b9-7480-4184-b58b-64edebfe1488",
   "metadata": {},
   "source": [
    "# Предсказание сердечного приступа у пациента"
   ]
  },
  {
   "cell_type": "markdown",
   "id": "dd4ba3a6-72fe-492f-95b7-b1227bf66dc6",
   "metadata": {},
   "source": [
    "# Цель исследования:\n",
    "\n",
    "Разработать модель машинного обучения для предсказания на тестовой выборке риска возникновения сердечного приступа у пациента.\n",
    "\n",
    "1. Исследование датасета\n",
    "2. Предобработка данных\n",
    "3. Обучение модели\n",
    "4. Подготовка предсказания на тестовой выборке\n"
   ]
  },
  {
   "cell_type": "markdown",
   "id": "48dae5c7-dd58-4b81-8050-3c15dc72af9f",
   "metadata": {},
   "source": [
    "# Описание данных\n",
    "\n",
    "`heart_train.csv` - тренировочная выборка с данными пациентов\n",
    "\n",
    "| Признак | Обозначение |\n",
    "| ------- | ------- |\n",
    "| `Age` | Возраст |\n",
    "| `Cholesterol` | Холестерин |\n",
    "| `Heart rate` | Сердечный ритм |\n",
    "| `Diabetes` | Диабет |\n",
    "| `Family History` | Семейный анамнез |\n",
    "| `Smoking` | Курение |\n",
    "| `Obesity` | Ожирение |\n",
    "| `Alcohol Consumption` | Потребление алкоголя |\n",
    "| `Exercise Hours Per Week` | Часы активности в неделю |\n",
    "| `Diet` | Диета |\n",
    "| `Previous Heart Problems` | Проблемы с сердцем ранее |\n",
    "| `Medication Use` | Приём лекарств |\n",
    "| `Stress Level` | Уровень стресса |\n",
    "| `Sedentary Hours Per Day` | Сидячие часы в день |\n",
    "| `Income` | Доход |\n",
    "| `BMI` | Индекс массы тела |\n",
    "| `Triglycerides` | Триглицериды |\n",
    "| `Physical Activity Days Per Week` | Количество дней активности в неделю |\n",
    "| `Sleep Hours Per Day` | Количество часов сна в день |\n",
    "| `Heart Attack Risk (Binary)` | Риск сердечного приступа (бинарный) - целевой признак |\n",
    "| `Blood sugar` | Содержание сахара в крови |\n",
    "| `CK-MB` | Креатинкиназа-МВ |\n",
    "| `Troponin` | Тропонин |\n",
    "| `Gender` | Пол |\n",
    "| `Systolic blood pressure` | Систолическое АД |\n",
    "| `Diastolic blood pressure` | Диастолическое АД |\n",
    "| `id` | Идентификатор пациента |\n",
    "\n",
    "`heart_test.csv` - тестовая выборка с данными пациентов без целевого признака."
   ]
  },
  {
   "cell_type": "markdown",
   "id": "f4098674-a99b-4b2f-9b24-a3814dbc93ce",
   "metadata": {},
   "source": [
    "# Обзор данных"
   ]
  },
  {
   "cell_type": "markdown",
   "id": "48b6e7bc-e3f9-4357-a233-bed41a5d98a2",
   "metadata": {},
   "source": [
    "## Установка дополнительных библиотек"
   ]
  },
  {
   "cell_type": "code",
   "execution_count": 1,
   "id": "ad41f9fc-8441-41a4-adc6-f8e62c77eae4",
   "metadata": {},
   "outputs": [],
   "source": [
    "#!pip install catboost -q"
   ]
  },
  {
   "cell_type": "markdown",
   "id": "3558cfe3-cc6e-416f-91c1-2411f7ee8919",
   "metadata": {},
   "source": [
    "## Импортирование библиотек"
   ]
  },
  {
   "cell_type": "code",
   "execution_count": 2,
   "id": "c5281ca1-cc96-433e-81ea-1f1da2f02a0e",
   "metadata": {},
   "outputs": [],
   "source": [
    "import matplotlib.pyplot as plt\n",
    "import numpy as np\n",
    "import os\n",
    "import pandas as pd\n",
    "import seaborn as sns\n",
    "from sklearn.model_selection import train_test_split, StratifiedKFold, cross_val_score\n",
    "from sklearn.preprocessing import StandardScaler, OneHotEncoder\n",
    "from sklearn.pipeline import Pipeline\n",
    "from sklearn.compose import ColumnTransformer\n",
    "from sklearn.metrics import (\n",
    "    accuracy_score,\n",
    "    precision_score,\n",
    "    recall_score,\n",
    "    f1_score,\n",
    "    roc_auc_score,\n",
    "    confusion_matrix,\n",
    "    classification_report\n",
    ")\n",
    "import joblib\n",
    "from catboost import CatBoostClassifier, Pool\n",
    "from tqdm import tqdm\n",
    "\n",
    "# Настройки отображения Pandas и графиков\n",
    "pd.set_option(\"display.max_columns\", None)\n",
    "pd.set_option(\"display.width\", 120)\n",
    "sns.set(style=\"whitegrid\")\n",
    "plt.rcParams[\"figure.figsize\"] = (8, 5)"
   ]
  },
  {
   "cell_type": "markdown",
   "id": "5371ad79-6de7-4e47-aaca-708b3ff7e646",
   "metadata": {},
   "source": [
    "## Загрузка данных"
   ]
  },
  {
   "cell_type": "code",
   "execution_count": 11,
   "id": "c203d22b-ba0e-4520-9904-154de5eeeae5",
   "metadata": {},
   "outputs": [],
   "source": [
    "pth0 = '../datasets/heart_train.csv'\n",
    "pth1 = '../datasets/heart_test.csv'\n",
    "\n",
    "def load_data(local_path):\n",
    "    if os.path.exists(local_path):\n",
    "        return pd.read_csv(local_path)\n",
    "    else:\n",
    "        return 'Что-то пошло не так'\n",
    "\n",
    "data_train = load_data(pth0)\n",
    "data_test = load_data(pth1)"
   ]
  },
  {
   "cell_type": "code",
   "execution_count": null,
   "id": "263573b6-e699-40f4-b1b5-354f069a78bb",
   "metadata": {},
   "outputs": [],
   "source": []
  }
 ],
 "metadata": {
  "kernelspec": {
   "display_name": "Python 3 (ipykernel)",
   "language": "python",
   "name": "python3"
  },
  "language_info": {
   "codemirror_mode": {
    "name": "ipython",
    "version": 3
   },
   "file_extension": ".py",
   "mimetype": "text/x-python",
   "name": "python",
   "nbconvert_exporter": "python",
   "pygments_lexer": "ipython3",
   "version": "3.9.21"
  }
 },
 "nbformat": 4,
 "nbformat_minor": 5
}
